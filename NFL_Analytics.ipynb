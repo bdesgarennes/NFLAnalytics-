{
  "nbformat": 4,
  "nbformat_minor": 0,
  "metadata": {
    "colab": {
      "provenance": [],
      "include_colab_link": true
    },
    "kernelspec": {
      "name": "python3",
      "display_name": "Python 3"
    },
    "language_info": {
      "name": "python"
    }
  },
  "cells": [
    {
      "cell_type": "markdown",
      "metadata": {
        "id": "view-in-github",
        "colab_type": "text"
      },
      "source": [
        "<a href=\"https://colab.research.google.com/github/bdesgarennes/NFLAnalytics-/blob/main/NFL_Analytics.ipynb\" target=\"_parent\"><img src=\"https://colab.research.google.com/assets/colab-badge.svg\" alt=\"Open In Colab\"/></a>"
      ]
    },
    {
      "cell_type": "markdown",
      "source": [
        "# NFL Player Analytics \n",
        "### Braden desGarennes & Maksim Kalmanovich\n",
        "### February 2023"
      ],
      "metadata": {
        "id": "Y8w38fuhjFps"
      }
    },
    {
      "cell_type": "markdown",
      "source": [
        "**Reasoning:** A very common held \"fact\" seen around Football and Twitter is that the QB is a football team's most valuable position and is the position that ulitmitly leads to the most wins. This can be seen, not only if you ask a fan, coach, or player but is clearly represented in the NFL's MVPs going to QBs in 46/67 times and Super Bowl MVPS going to QBs 32/57 times. We wanted to test this theory and see if the data actually backs this up or if this common belief is in fact innacurate.   \n",
        "\n",
        "**Hypothesis:** Quarterbacks have the most impact on wins on the football field.\n",
        "\n",
        "[NFL News: Ranking each position's importance, from quarterback to returner](https://www.nfl.com/news/ranking-each-position-s-importance-from-quarterback-to-returner-0ap3000000503855)\n",
        "\n",
        "[Football Positions Ranked by Importance](https://www.rookieroad.com/football/positions/positions-ranked-by-importance/#:~:text=The%20QB%20is%20the%20most,make%20decisions%20every%20single%20play.)\n",
        "\n",
        "[Bleacher Report: Power Ranking the Importance of Each Position in Todays NFL](https://bleacherreport.com/articles/1659834-power-ranking-the-importance-of-each-position-in-todays-nfl)"
      ],
      "metadata": {
        "id": "i95B_eA9jus5"
      }
    },
    {
      "cell_type": "code",
      "execution_count": null,
      "metadata": {
        "id": "uWbwk3vyi-5S"
      },
      "outputs": [],
      "source": [
        "# first some initial setup of libraries we will be using\n",
        "import pandas as pd # this is the main library used in python for manipulating data. \n",
        "import json # this is a library to parse json (javascript object notation)\n",
        "from urllib.request import urlopen # library to read data from a URL\n",
        "import matplotlib.pyplot as plt # visualization library we will use that integrates with pandas"
      ]
    },
    {
      "cell_type": "code",
      "source": [
        "url=\"https://projects.fivethirtyeight.com/nfl-api/nfl_elo.csv\"\n",
        "elo_df = pd.read_csv(url)\n",
        "elo_df.head\n",
        "\n",
        "url=\"https://projects.fivethirtyeight.com/nfl-api/nfl_elo_latest.csv\"\n",
        "elo_latest_df = pd.read_csv(url)\n",
        "elo_latest_df.head"
      ],
      "metadata": {
        "colab": {
          "base_uri": "https://localhost:8080/"
        },
        "id": "J9_D6yearXFU",
        "outputId": "b3e4ac0c-ccde-4cca-8231-74e2c0d564c9"
      },
      "execution_count": null,
      "outputs": [
        {
          "output_type": "execute_result",
          "data": {
            "text/plain": [
              "<bound method NDFrame.head of            date  season  neutral playoff team1 team2     elo1_pre  \\\n",
              "0    2022-09-08    2022        0     NaN   LAR   BUF  1614.761436   \n",
              "1    2022-09-11    2022        0     NaN   MIA    NE  1539.979483   \n",
              "2    2022-09-11    2022        0     NaN   CIN   PIT  1558.193285   \n",
              "3    2022-09-11    2022        0     NaN   ATL    NO  1436.671709   \n",
              "4    2022-09-11    2022        0     NaN   NYJ   BAL  1364.983381   \n",
              "..          ...     ...      ...     ...   ...   ...          ...   \n",
              "279  2023-01-22    2022        0       d   BUF   CIN  1731.516093   \n",
              "280  2023-01-22    2022        0       d    SF   DAL  1708.971847   \n",
              "281  2023-01-29    2022        0       c   PHI    SF  1621.987292   \n",
              "282  2023-01-29    2022        0       c    KC   CIN  1735.804844   \n",
              "283  2023-02-12    2022        1       s   PHI    KC  1657.913193   \n",
              "\n",
              "        elo2_pre  elo_prob1  elo_prob2  ...  qb2_game_value  qb1_value_post  \\\n",
              "0    1614.246762   0.593181   0.406819  ...      402.149420      175.505078   \n",
              "1    1537.002981   0.596597   0.403403  ...      122.148555      143.215005   \n",
              "2    1510.143510   0.657183   0.342817  ...      111.575433      158.617066   \n",
              "3    1543.815038   0.439647   0.560353  ...      151.832530      131.818353   \n",
              "4    1508.988219   0.388223   0.611777  ...      112.207146      110.835816   \n",
              "..           ...        ...        ...  ...             ...             ...   \n",
              "279  1690.292481   0.648277   0.351723  ...      303.726984      225.069808   \n",
              "280  1640.135262   0.683613   0.316387  ...      105.114287      109.133365   \n",
              "281  1721.375447   0.450672   0.549328  ...       56.917741      246.826740   \n",
              "282  1729.668918   0.600966   0.399034  ...       28.185998      280.177715   \n",
              "283  1746.521889   0.375176   0.624824  ...      411.098145      268.147365   \n",
              "\n",
              "     qb2_value_post  qbelo1_post  qbelo2_post score1  score2  quality  \\\n",
              "0        273.860644  1549.330347  1646.634779     10      31       91   \n",
              "1        141.397833  1539.874207  1492.199526     20       7       56   \n",
              "2        162.607806  1530.384153  1493.128173     20      23       56   \n",
              "3        151.145557  1374.515041  1520.814596     26      27       19   \n",
              "4        157.662356  1370.565348  1566.536000      9      24       34   \n",
              "..              ...          ...          ...    ...     ...      ...   \n",
              "279      230.466056  1675.570770  1690.152492     10      27       99   \n",
              "280      191.883277  1719.153115  1619.647034     19      12       98   \n",
              "281      103.911803  1645.507079  1693.213858     31       7       99   \n",
              "282      210.238050  1708.664922  1678.805820     23      20      100   \n",
              "283      293.269758  1633.804536  1720.367465     35      38      100   \n",
              "\n",
              "     importance  total_rating  \n",
              "0            59            75  \n",
              "1            85            71  \n",
              "2            75            66  \n",
              "3            54            37  \n",
              "4            51            43  \n",
              "..          ...           ...  \n",
              "279         100           100  \n",
              "280         100            99  \n",
              "281         100           100  \n",
              "282         100           100  \n",
              "283         100           100  \n",
              "\n",
              "[284 rows x 33 columns]>"
            ]
          },
          "metadata": {},
          "execution_count": 13
        }
      ]
    },
    {
      "cell_type": "code",
      "source": [],
      "metadata": {
        "id": "AndiJOv9rpR4"
      },
      "execution_count": null,
      "outputs": []
    }
  ]
}